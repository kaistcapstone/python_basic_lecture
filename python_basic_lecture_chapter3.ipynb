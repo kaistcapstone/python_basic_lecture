{
 "cells": [
  {
   "cell_type": "markdown",
   "metadata": {},
   "source": [
    "# Python Basic Lecture\n",
    "## Chapter 3: Function\n",
    "### *What is Function?\n",
    "프로그래밍을 하다 보면 똑같은 코드를 반복해서 작성하고 있는 자신을 발견할 때가 종종 있습니다. 이때가 바로 함수가 필요한 때이입니다. 즉, 반복되는 부분이 있을 경우 \"반복적으로 사용되는 가치 있는 부분\"을 한 뭉치로 묶어서 \"어떤 입력값을 주었을 때 어떤 결과값을 돌려준다\"라는식의 함수로 작성하는 것이 가능합니다.\n",
    "\n",
    "함수를 사용하는 또 다른 이유는 자신이 만든 프로그램을 함수화하면 프로그램의 흐름을 일목요연하게 볼 수 있기 때문입니다. 입력한 값이 여러 함수들을 거치면서 원하는 결과값을 내는 것을 확인함으로써 프로그램의 흐름도 잘 파악할 수 있고, 에러가 어디에서 나는 지도 금방 알 수 있습니다.\n",
    "\n",
    "이렇게 유용한 함수의 파이썬에서의 구조는 다음과 같습니다.\n",
    "\n",
    "def 함수명(매개변수):\n",
    "    <수행할 문장1>\n",
    "    <수행할 문장2>\n",
    "    ...\n",
    "\n",
    "\n",
    "\n",
    "def는 함수를 만들 때 사용하는 예약어이며, 함수명은 함수를 만드는 사람이 임의로 만들 수 있습니다. 함수명 뒤 괄호 안의 매개변수는 이 함수에 입력으로 전달되는 값을 받는 변수입니다 매개변수는 위와같이 하나만 설정해야 하는 게 아니라, 여러개를 설정할 수도 있습니다. 이렇게 함수를 정의한 다음 if, while, for문 등과 마찬가지로 함수에서 수행할 문장들을 입력하면 됩니다.\n",
    "\n",
    "간단하지만 많은 것을 설명해 주는 다음의 예를 봅시다."
   ]
  },
  {
   "cell_type": "code",
   "execution_count": null,
   "metadata": {
    "scrolled": true
   },
   "outputs": [],
   "source": [
    "def sum(a, b):\n",
    "    return a+b\n",
    "a=3\n",
    "b=4\n",
    "\n",
    "c=sum(a,b)\n",
    "print(c)"
   ]
  },
  {
   "cell_type": "markdown",
   "metadata": {},
   "source": [
    "변수 a에 3, b에 4를 대입한 다음 앞서 만든 sum 함수에 a와 b를 입력값으로 넣어 줍니다. 그리고 변수 c에 sum 함수의 결과값을 대입하면 print(c)로 c의 값을 확인할 수 있습니다.\n",
    "\n",
    "기본적인 함수의 활용법은 위와 같고, 아래에서는 함수의 4가지 형태에 대해서 간단히 알아보겠습니다.\n"
   ]
  },
  {
   "cell_type": "markdown",
   "metadata": {},
   "source": [
    "### *입력값과 결과값에 따른 함수의 형태 \n",
    "입력값과 결과값에 따라서 함수는 다음과 같이 총 4가지로 분류할 수 있습니다.\n",
    "#### -일반적인 입력값과 결과값이 있는 함수\n",
    " 가장 기본적인 함수의 형태로, 1개 이상의 입력값을 받은 이후 그에 대한 결과값을 내뿜는 형태입니다."
   ]
  },
  {
   "cell_type": "code",
   "execution_count": null,
   "metadata": {},
   "outputs": [],
   "source": [
    "def sum(a, b): \n",
    "    result = a + b \n",
    "    return result"
   ]
  },
  {
   "cell_type": "markdown",
   "metadata": {},
   "source": [
    " 위 코드에서는 2개의 입력값을 받아서 서로 더한 결과값을 돌려줍니다.\n"
   ]
  },
  {
   "cell_type": "markdown",
   "metadata": {},
   "source": [
    "#### -입력값이 없는 함수\n",
    "입력값은 따로 없고 결과값만 내뿜는 형태입니다."
   ]
  },
  {
   "cell_type": "code",
   "execution_count": null,
   "metadata": {},
   "outputs": [],
   "source": [
    "def say(): \n",
    "    return 'Hi'\n",
    "a=say()\n",
    "print(a)\n",
    "    "
   ]
  },
  {
   "cell_type": "markdown",
   "metadata": {},
   "source": [
    "위 코드에서처럼 입력값이 없고 결과값만 있는 함수는 다음과 같이 사용됩니다.\n",
    "\n",
    "결과값을 받을 변수 = 함수명()"
   ]
  },
  {
   "cell_type": "markdown",
   "metadata": {},
   "source": [
    "#### -결과값이 없는 함수\n",
    "입력값은 받지만 결과값을 따로 내뱉지는 않으며, 함수 내의 코드만 실행시키는 형태입니다."
   ]
  },
  {
   "cell_type": "code",
   "execution_count": null,
   "metadata": {},
   "outputs": [],
   "source": [
    "def sum(a, b): \n",
    "    print(\"%d, %d의 합은 %d입니다.\" % (a, b, a+b))\n",
    "sum(3, 4)\n"
   ]
  },
  {
   "cell_type": "markdown",
   "metadata": {},
   "source": [
    "위 코드에서는 입력값 a,b를 받은 이후 그 값을 활용하여 print를 실행하며 따로 결과값이 있지는 않습니다."
   ]
  },
  {
   "cell_type": "markdown",
   "metadata": {},
   "source": [
    "#### -입력값도 결과값도 없는 함수\n",
    "입력값도 결과값도 없으며 그냥 함수 내의 코드를 실행시키는 형태입니다."
   ]
  },
  {
   "cell_type": "code",
   "execution_count": null,
   "metadata": {},
   "outputs": [],
   "source": [
    "def say():\n",
    "    print('Hi')\n",
    "say()"
   ]
  },
  {
   "cell_type": "markdown",
   "metadata": {},
   "source": [
    "즉, 입력값도 결과값도 없는 함수는 위에서 처럼 다음과 같이 사용됩니다.\n",
    "\n",
    "함수명()\n",
    "\n",
    "\n",
    "기본적인 함수에 대한 설명은 여기까지입니다. 함수들을 잘 활용하여 효율적인 코딩을 할 수 있을 수 있길 바랍니다."
   ]
  },
  {
   "attachments": {
    "image.png": {
     "image/png": "[encoded data removed]"
    }
   },
   "cell_type": "markdown",
   "metadata": {},
   "source": [
    "## Chapter 4: Class\n",
    "### *Class?\n",
    "\n",
    "클래스는 프로그램에 있어서 꼭 필요한 요소는 아니지만, 프로그래밍을 훨씬 수월하게 할 수 있는 수단입니다.\n",
    "\n",
    "쉽게 이해하면 클래스(class)란 똑같은 무엇인가를 계속해서 만들어낼 수 있는 설계 도면 같은 것이고(과자 틀), 객체(object)란 클래스에 의해서 만들어진 피조물(과자틀에 의해서 만들어진 과자)을 뜻한다고 볼 수 있습니다.\n",
    "\n",
    "클래스에 의해서 만들어진 객체에는 중요한 특징이 있습니다. 그것은 객체별로 독립적인 성격을 갖는다는 것입니다. 과자틀에 의해서 만들어진 과자에 구멍을 뚫거나 조금 베어먹더라도 다른 과자들에는 아무 영향이 없는것과 마찬가지로 동일한 클래스에의해 생성된 객체들은 서로에게 전혀 영향을 주지 않습니다.\n",
    "\n",
    "클래스 내에서 선언한 함수는 다른 말로 메서드 라고 부릅니다.\n",
    "\n",
    "클래스를 선언할 때 객체와 호출 입력 값들이 메서드에 어떻게 전달되는지를 보면 다음과 같다.\n",
    "\n",
    "![image.png](attachment:image.png)\n",
    "\n",
    "위에서 간단하게 확인한 정의들을 바탕으로 사칙연산이 가능한 클래스를 선언해보겠습니다.\n"
   ]
  },
  {
   "cell_type": "code",
   "execution_count": 1,
   "metadata": {},
   "outputs": [],
   "source": [
    "class FourCal:\n",
    "...     def setdata(self, first, second):\n",
    "...         self.first = first\n",
    "...         self.second = second\n",
    "...     def sum(self):\n",
    "...         result = self.first + self.second\n",
    "...         return result\n",
    "...     def mul(self):\n",
    "...         result = self.first * self.second\n",
    "...         return result\n",
    "...     def sub(self):\n",
    "...         result = self.first - self.second\n",
    "...         return result\n",
    "...     def div(self):\n",
    "...         result = self.first / self.second\n",
    "...         return result\n",
    "\n"
   ]
  },
  {
   "cell_type": "code",
   "execution_count": 2,
   "metadata": {},
   "outputs": [
    {
     "name": "stdout",
     "output_type": "stream",
     "text": [
      "6\n",
      "8\n",
      "2\n",
      "2.0\n",
      "10\n",
      "21\n",
      "-4\n",
      "0.42857142857142855\n"
     ]
    }
   ],
   "source": [
    "a= FourCal()\n",
    "b= FourCal()\n",
    "a.setdata(4,2)\n",
    "b.setdata(3,7)\n",
    "\n",
    "print(a.sum())\n",
    "print(a.mul())\n",
    "print(a.sub())\n",
    "print(a.div())\n",
    "print(b.sum())\n",
    "print(b.mul())\n",
    "print(b.sub())\n",
    "print(b.div())\n"
   ]
  },
  {
   "cell_type": "markdown",
   "metadata": {},
   "source": [
    "코드를 살펴보면 FourCal이라는 클래스(과자틀)를 선언한 이후 그 내에 사칙연산에 해당하는 메소드들을 선언합니다. \n",
    "\n",
    "그 이후 a,b라는 객체(과자)를 클래스를 이용하여 만들어냅니다. \n",
    "\n",
    "그 이후 각 객체에 원하는 숫자들을 입력합니다.\n",
    "\n",
    "마지막으로 각 객체에서 사칙연산을 실행한 이후 그 결과를 확인합니다.\n",
    "\n",
    "유심히 볼 것은 위에서 설명하였듯이 각 객체마다 메소드를 실행하기 위하여 객체명.메소드()와 같은 방식을 사용한다는 점입니다.\n",
    "\n",
    "\n",
    "또 하나 중요한 내용은 바로 이 클래스를 상속받을 수 있다는 점입니다. 상속이라는 개념은 말 그대로의 뜻에서 부터 유추할 수 있듯이, 어떤 클래스의 내용을 가지고 있는 새로운 클래스를 선언할 수 있다는 얘기입니다. 아래의 예제를 통해 확인해보겠습니다.\n",
    "\n",
    "\n",
    "\n",
    "\n",
    "\n",
    "\n"
   ]
  },
  {
   "cell_type": "code",
   "execution_count": 10,
   "metadata": {},
   "outputs": [],
   "source": [
    "class NewFourCal(FourCal):\n",
    "    def sum(self):\n",
    "#         result = super(NewFourCal,self).sum()\n",
    "#         print(result)\n",
    "        result = self.first + self.first\n",
    "        return result\n"
   ]
  },
  {
   "cell_type": "markdown",
   "metadata": {},
   "source": [
    "NewFourCal 이라는 클래스를 FourCal이라는 클래스로부터 상속받아 새로 선언하였습니다. NewFourCal은 FourCal에게 상속받았으므로 FourCal이 가지고 있는 모든 메서드나 변수등을 가지고 있습니다. 추가적으로 위 코드에서처럼 상속받은 메서드 sum와 같은 이름의 메서드를 NewFourCal에서 새로 선언하였는데요, 이를 메서드 오버라이딩이라 부르며, 이 때는 상속받은 class에서 선언한 메서드를 우선순위로 놓기 때문에 아래 코드에서처럼 sum 메서드를 사용할 경우 NewFourCal에서 선언된 것으로 메서드가 실행됩니다.\n",
    "\n",
    "추가적으로 상속해주는 class에서 선언한 메서드를 사용하고 싶은 경우에는 super라는 파이썬 함수를 활용하면 됩니다."
   ]
  },
  {
   "cell_type": "code",
   "execution_count": 17,
   "metadata": {},
   "outputs": [],
   "source": [
    "c=NewFourCal()\n",
    "c.setdata(4,2)\n",
    "dat1=c.sum()\n",
    "dat2=super(NewFourCal,c).sum()"
   ]
  },
  {
   "cell_type": "code",
   "execution_count": 18,
   "metadata": {},
   "outputs": [
    {
     "name": "stdout",
     "output_type": "stream",
     "text": [
      "8\n",
      "6\n"
     ]
    }
   ],
   "source": [
    "print(dat1) #NewFourCal 에서 선언한 sum메서드를 통해 계산된 값\n",
    "print(dat2) #FourCal 에서 선언한 sum메서드를 super를 통해 사용하여 계산된 값"
   ]
  },
  {
   "cell_type": "markdown",
   "metadata": {},
   "source": [
    "이처럼 클래스는 코딩을 더 함축적으로 쓸 수 있게 해주는 중요한 기능입니다. 앞으로의 많은 코드들에서도 class를 많이 사용하므로 잘 기억해두시길 바랍니다.\n",
    "\n",
    "\n",
    "클래스의 가장 기본은 이것으로 마치겠습니다."
   ]
  },
  {
   "cell_type": "markdown",
   "metadata": {},
   "source": [
    "### Chapter 5: Module and Package\n",
    "#### Module\n",
    "\n",
    "모듈이란 이전에 배운 함수나 변수 또는 클래스 들을 모아 놓은 파일입니다. 모듈은 다른 파이썬 프로그램에서 불러와 사용할수 있게끔 만들어진 파이썬 파일이라고도 할 수 있습니다. 우리는 파이썬으로 프로그래밍을 할 때 굉장히 많은 모듈을 사용합니다. 다른 사람들이 이미 만들어 놓은 모듈을 사용할 수도 있고 우리가 직접 만들어서 사용할 수도 있습니다. 여기서는 모듈을 어떻게 만들고 사용할 수 있는지 알아보겠습니다."
   ]
  },
  {
   "cell_type": "code",
   "execution_count": null,
   "metadata": {},
   "outputs": [],
   "source": [
    "# mod1.py\n",
    "def sum(a, b):\n",
    "    return a + b"
   ]
  },
  {
   "cell_type": "markdown",
   "metadata": {},
   "source": [
    "빈 메모장을 하나 킨 이후 위와 같이 함수 sum 이 선언된 내용을 작성한 이후 mod1.py라는 형식으로 현재 이 강의자료가 있는 폴더에 저장합니다.\n",
    "그 이후 아래 코드를 실행시키면 이전에는 mod1이라는 모듈 즉 위에서 방금 저희가 만든 mod1.py라는 파일이 없었기에 아래 코드를 실행할 수 없었지만, 모듈이 생성되었기에 아래 코드가 실행됩니다."
   ]
  },
  {
   "cell_type": "code",
   "execution_count": null,
   "metadata": {},
   "outputs": [],
   "source": [
    "import mod1\n",
    "print(mod1.sum(3,4))\n"
   ]
  },
  {
   "cell_type": "markdown",
   "metadata": {},
   "source": [
    "이렇게 미리 저장해 놓은 mod1 모듈 내의 sum 함수를 mod1.sum과 같이 모듈이름.함수 의 형식으로 쓸 수 있습니다. 사용하는 모듈 내에 함수 뿐만 아니라 클래스 등도 있다면 이와 유사하게, 모듈이름.클래스이름 등을 이용하여 객체를 선언할 수도 있습니다.\n",
    "\n",
    "모듈은 여기까지로 마치겠습니다."
   ]
  },
  {
   "attachments": {
    "image.png": {
     "image/png": "[encoded data removed]"
    }
   },
   "cell_type": "markdown",
   "metadata": {},
   "source": [
    "#### Package\n",
    "패키지(Packages)는 도트(.)를 이용하여 파이썬 모듈을 계층적(디렉터리 구조)으로 관리할 수 있게 해줍니다. 예를 들어 모듈명이 A.B인 경우 A는 패키지명이 되고 B는 A 패키지의 B 모듈이 된다.\n",
    "\n",
    "파이썬 패키지는 디렉터리와 파이썬 모듈로 이루어지며 구조는 다음과 같습니다.\n",
    "\n",
    "가상의 game 패키지 예\n",
    "\n",
    "![image.png](attachment:image.png)\n",
    "\n",
    "game, sound, graphic, play는 디렉터리명이고 .py 확장자를 가지는 파일은 파이썬 모듈입니다. game 디렉터리가 이 패키지의 루트 디렉터리이고 sound, graphic, play는 서브 디렉터리입니다.\n",
    "\n",
    "※ _ _ init _ _.py 파일은 조금 특이한 용도로 사용되는데, 이것에 대해서는 뒤에서 자세하게 다룰 것입니다.\n",
    "\n",
    "간단한 파이썬 프로그램이 아니라면 이렇게 패키지 구조로 파이썬 프로그램을 만드는 것이 공동 작업이나 유지 보수 등 여러 면에서 유리합니다. 또한 패키지 구조로 모듈을 만들면 다른 모듈과 이름이 겹치더라도 더 안전하게 사용할 수 있습니다.\n",
    "\n",
    "간단한 예제를 통해 위 game 패키지를 만들어봅시다.\n",
    "\n",
    "현재 강의자료가 저장된 폴더 내에 새로운 폴더 game을 만들고 그 내에 위의 game 패키지 예처럼 내부 폴더와 각 폴더 내에 .py파일들을 만듭니다. 이 때 _ _ init _ _.py 파일들은 일단 내용은 없는 빈 파일로 만들어둡니다. 그 이외의 파일들은 아래와 같이 만들어봅시다. 꼭 아래의 형식을 따를 필요는 없으며, 원하는 기능을 하는 함수를 마음대로 선언하셔도 됩니다. 대신 만든 함수 이름만 잘 기억하고 있으면 됩니다.\n",
    "\n"
   ]
  },
  {
   "cell_type": "code",
   "execution_count": null,
   "metadata": {},
   "outputs": [],
   "source": [
    "# __init__.py\n",
    "\n",
    "\n"
   ]
  },
  {
   "cell_type": "code",
   "execution_count": null,
   "metadata": {},
   "outputs": [],
   "source": [
    "# echo.py\n",
    "\n",
    "def echo_test():\n",
    "    print(\"echo\")    "
   ]
  },
  {
   "cell_type": "code",
   "execution_count": null,
   "metadata": {},
   "outputs": [],
   "source": [
    "# wav.py\n",
    "\n",
    "def wav_test():\n",
    "    print(\"wav\") "
   ]
  },
  {
   "cell_type": "code",
   "execution_count": null,
   "metadata": {},
   "outputs": [],
   "source": [
    "# screen.py\n",
    "\n",
    "def screen_test():\n",
    "    print(\"screen\") "
   ]
  },
  {
   "cell_type": "code",
   "execution_count": null,
   "metadata": {},
   "outputs": [],
   "source": [
    "# render.py\n",
    "\n",
    "def render_test():\n",
    "    print(\"render\") "
   ]
  },
  {
   "cell_type": "code",
   "execution_count": null,
   "metadata": {},
   "outputs": [],
   "source": [
    "# run.py\n",
    "\n",
    "def run_test():\n",
    "    print(\"run\") "
   ]
  },
  {
   "cell_type": "code",
   "execution_count": null,
   "metadata": {},
   "outputs": [],
   "source": [
    "# test.py\n",
    "\n",
    "def test_test():\n",
    "    print(\"test\") "
   ]
  },
  {
   "cell_type": "code",
   "execution_count": null,
   "metadata": {},
   "outputs": [],
   "source": [
    "import game.sound.echo\n",
    "game.sound.echo.echo_test()\n"
   ]
  },
  {
   "cell_type": "markdown",
   "metadata": {},
   "source": [
    "위의 예제를 통해 game.sound.echo라는 모듈을 불러왔으며 이를 사용하기 위해 game.sound.echo.echo_test()와 같이 코드를 작성하였습니다. \n",
    "\n",
    "import의 경우 모듈을 불러오는 형태이기 때문에 import game의 형식으로 사용할 경우 game은 디렉토리이지 모듈이 아니라서 echo.py 라는 모듈에 들어있는 echo_test라는 함수를 사용하지 못하게 됩니다.\n",
    "\n",
    "일일히 이런 식으로 디렉토리를 다 써가면서 각각의 모듈을 모두 불러온 후 함수를 사용하는 것이 매우 귀찮을 수 있습니다. 이를 해결하기 위해 이전에 빈 파일로 두었던 _ _ init _ _ .py 파일들을 수정해봅시다."
   ]
  },
  {
   "cell_type": "markdown",
   "metadata": {},
   "source": [
    "먼저 game 디렉토리에 있는 init파일의 경우 아래와 같이 수정합니다."
   ]
  },
  {
   "cell_type": "code",
   "execution_count": null,
   "metadata": {},
   "outputs": [],
   "source": [
    "# /game/__init__.py\n",
    "from .sound import *"
   ]
  },
  {
   "cell_type": "markdown",
   "metadata": {},
   "source": [
    "\".sound.echo\" 에서 \".\"은 현재 디렉토리를 의미하며 game 디렉토리의 sound 디렉토리를 의미합니다. \n",
    "\n",
    "from 에 이어진 import의 경우 모듈을 불러온다는 게 아닌 모듈 내의 함수, 클래스, 변수를 불러온다는 의미입니다.\n",
    "\n",
    "import *는 모든 함수, 클래스, 변수들을 불러온다는 의미입니다.\n",
    "\n",
    "\"from .sound import *\"는 결과적으로 해당 디렉토리(.sound)에서 공개된 모든 함수, 클래스, 변수들을 불러온다는 의미입니다.\n",
    "\n",
    "이 때 \"공개된\" 이라는 단어를 기억하신 채로 상단의 kernel-> restart and clear output을 누른 이후 아래의 예제를 실행해 봅시다."
   ]
  },
  {
   "cell_type": "code",
   "execution_count": 4,
   "metadata": {},
   "outputs": [
    {
     "name": "stdout",
     "output_type": "stream",
     "text": [
      "echo\n"
     ]
    }
   ],
   "source": [
    "import game #game 디렉토리의 __init__.py를 수정하였기에 해당 __init__.py가 동작하는 game을 import함.\n",
    "game.echo_test()"
   ]
  },
  {
   "cell_type": "markdown",
   "metadata": {},
   "source": [
    "echo_test를 찾을 수 없다는 에러와 함께 코드가 실행되지 않으실 겁니다. game 폴더의 init에서 sound폴더에서 공개된 모든 함수,클래스,변수를 불러왔지만, sound 폴더에서 바로 공개된 함수,코드,변수가 없기 때문입니다. 이를 해결하기 위해 이번에는 sound폴더 내에 있는 init파일을 수정해봅시다."
   ]
  },
  {
   "cell_type": "code",
   "execution_count": null,
   "metadata": {},
   "outputs": [],
   "source": [
    "# /game/sound/__init__.py\n",
    "from .echo import *"
   ]
  },
  {
   "cell_type": "markdown",
   "metadata": {},
   "source": [
    "이제 저장한 이후 다시 kernel-> restart and clear output를 통해 초기화한 이후 위의 예제를 다시 실행해봅시다.\n",
    "이번에는 코드가 잘 실행될 것입니다.\n",
    "sound폴더 내에서 init을 통해 echo.py라는 모듈 내의 모든 함수, 클래스, 변수를 공개했으며, 이러한 sound폴더를 game 폴더의 init에서 불러왔기 때문에 가능했습니다. \n",
    "\n",
    "이번에는 다시 위에서 수정했던 init파일들을 모두 빈 파일로 다시 만든 이후에 game폴더의 init을 아래와 같이 수정해봅시다.\n"
   ]
  },
  {
   "cell_type": "code",
   "execution_count": null,
   "metadata": {},
   "outputs": [],
   "source": [
    "# /game/__init__.py\n",
    "from .sound.echo import *"
   ]
  },
  {
   "cell_type": "markdown",
   "metadata": {},
   "source": [
    "kernel을 초기화한 이후 다시 아래의 코드를 실행시키면 이전처럼 잘 실행이 되는 것을 확인할 수 있습니다. \n",
    "\n",
    ".sound.echo를 통해 바로 sound폴더 내의 echo모듈에 접근할 수 있도록 지정해주었기 때문에 가능해졌습니다.\n",
    "\n",
    "\n",
    "여기까지가 패키지의 기본입니다."
   ]
  }
 ],
 "metadata": {
  "kernelspec": {
   "display_name": "Python 3",
   "language": "python",
   "name": "python3"
  },
  "language_info": {
   "codemirror_mode": {
    "name": "ipython",
    "version": 3
   },
   "file_extension": ".py",
   "mimetype": "text/x-python",
   "name": "python",
   "nbconvert_exporter": "python",
   "pygments_lexer": "ipython3",
   "version": "3.6.5"
  }
 },
 "nbformat": 4,
 "nbformat_minor": 2
}
