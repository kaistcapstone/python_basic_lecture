{
 "cells": [
  {
   "cell_type": "markdown",
   "metadata": {},
   "source": [
    "# Python Basic Lecture\n",
    "## Chapter 2: Basic Algorithm\n",
    "# 1. if 문\n",
    "if문은 프로그래밍에서 해당 조건을 충족하면(값이 TRUE 이면) 조건에 맞는 판단을 수행하는 조건문입니다.\n",
    "\n",
    "이는 프로그래밍을 해본 경험이 있다면 사용해봤을 구문이며 구조는 어렵지 않습니다. 파이썬의 조건문에서 주의해야할 것은 들여쓰기입니다. 다른 언어들처럼 조건문의 시작과 끝을 알려주는 표현이 없으며 대신 들여쓰기를 사용합니다. 들여쓰기의 깊이에 따라 해당 줄이 포함되어 있는 조건문이 달라지므로 주의하여 사용하도록 합니다. 또한 조건문 다음에는 콜론(:)을 붙여줘야합니다.\n",
    "\n",
    "if문의 전반적인 구조는 아래와 같습니다. input()은 입력함수로 문자열을 입력받습니다."
   ]
  },
  {
   "cell_type": "code",
   "execution_count": 3,
   "metadata": {},
   "outputs": [
    {
     "name": "stdout",
     "output_type": "stream",
     "text": [
      "b\n",
      "x is b\n"
     ]
    }
   ],
   "source": [
    "x = input()\n",
    "\n",
    "if x == \"a\":\n",
    "    print(\"x is a\")\n",
    "elif x == \"b\":\n",
    "    print(\"x is b\")\n",
    "else:\n",
    "    print(\"nothing\")"
   ]
  },
  {
   "cell_type": "markdown",
   "metadata": {},
   "source": [
    "## 1.1. 비교연산자, (and, or, not)연산자\n",
    "if문에서는 다음의 비교연산자(<, >, ==, !=, >=, <=)를 쓰는 경우가 많습니다.\n",
    "\n",
    "또한 or, and, not 의 연산자를 아래와 같이 사용할 수 있습니다. int(input())은 입력받은 문자열을 숫자형으로 변환시켜줍니다."
   ]
  },
  {
   "cell_type": "code",
   "execution_count": 8,
   "metadata": {},
   "outputs": [
    {
     "name": "stdout",
     "output_type": "stream",
     "text": [
      "21\n",
      "x는 10보다 작거나 홀수입니다.\n"
     ]
    }
   ],
   "source": [
    "x = int(input())\n",
    "\n",
    "if x > 10 and x % 2 == 0:\n",
    "    print(\"x는 10보다 큰 짝수입니다.\")\n",
    "elif x < 10 or x % 2 == 1:\n",
    "    print(\"x는 10보다 작거나 홀수입니다.\")\n",
    "else:\n",
    "    print(\"x는 10입니다.\")"
   ]
  },
  {
   "cell_type": "markdown",
   "metadata": {},
   "source": [
    "## 1.2. In, not In\n",
    "\n",
    "파이썬은 다른 프로그래밍 언어에서 볼 수 없는 조건문을 제시합니다. 이는 in과 not in 조건인데 이는 리스트, 튜플, 문자열에 숫자, 문자열이 존재하는지를 판단하여 True/False로 출력합니다. 이를 if문에 사용하면 아래와 같습니다."
   ]
  },
  {
   "cell_type": "code",
   "execution_count": 10,
   "metadata": {},
   "outputs": [
    {
     "name": "stdout",
     "output_type": "stream",
     "text": [
      "a\n",
      "x는 a, b, c중에 포함되어 있습니다.\n",
      "x는 a, c중에 포함되어 있습니다.\n"
     ]
    }
   ],
   "source": [
    "x = input()\n",
    "\n",
    "if x in ['a', 'b', 'c']:\n",
    "    print(\"x는 a, b, c중에 포함되어 있습니다.\")\n",
    "    if x not in ['a', 'c']:\n",
    "        print(\"x는 a, c중에 포함되어 있지 않습니다.\")\n",
    "    else:\n",
    "        print(\"x는 a, c중에 포함되어 있습니다.\")\n",
    "elif x in ['d', 'e', 'f']:\n",
    "    print(\"x는 d, e, f중에 포함되어 있습니다.\")\n",
    "else:\n",
    "    print(\"x는 어디에도 포함되어있지 않습니다.\")"
   ]
  },
  {
   "cell_type": "markdown",
   "metadata": {},
   "source": [
    "## 1.3. 조건부 표현식\n",
    "\n",
    "파이썬의 조건부 표현식은 if문을 다음과 같이 간단히 표현할 수 있게 해줍니다."
   ]
  },
  {
   "cell_type": "code",
   "execution_count": 11,
   "metadata": {},
   "outputs": [
    {
     "name": "stdout",
     "output_type": "stream",
     "text": [
      "11\n",
      "x는 10보다 큽니다\n"
     ]
    }
   ],
   "source": [
    "x = int(input())\n",
    "\n",
    "print(\"x는 10보다 큽니다\") if x > 10 else print(\"x는 10보다 작거나 같습니다.\")"
   ]
  },
  {
   "cell_type": "markdown",
   "metadata": {},
   "source": [
    "# 2. While문\n",
    "while문 역시 다른 프로그래밍 언어를 사용해봤다면 많이 사용해봤을 반복문입니다. 들여쓰기와 구문 끝에 :를 주의하여 사용합니다. 또한 continue문은 조건을 만족하면 while문의 맨 처음으로 돌아가게 합니다.\n",
    "\n",
    "아래는 while문 예제입니다. 예산이 10,000 이상이거나 0이하면 종료하는 예제입니다."
   ]
  },
  {
   "cell_type": "code",
   "execution_count": 12,
   "metadata": {
    "scrolled": true
   },
   "outputs": [
    {
     "name": "stdout",
     "output_type": "stream",
     "text": [
      "수입 or 지출: 100\n",
      "현재금액:  5100\n",
      "수입 or 지출: 100\n",
      "현재금액:  5200\n",
      "수입 or 지출: 500\n",
      "현재금액:  5700\n",
      "수입 or 지출: 100000\n",
      "목표달성, 현재금액:  105700\n"
     ]
    }
   ],
   "source": [
    "money = 5000\n",
    "\n",
    "while True:\n",
    "    deal = int(input(\"수입 or 지출: \"))\n",
    "    money += deal\n",
    "    if deal == 0: continue\n",
    "    if money >= 10000:\n",
    "        print(\"목표달성, 현재금액: \", money)\n",
    "        break\n",
    "    elif money <= 0:\n",
    "        print(\"파산, 현재금액: \", money)\n",
    "        break\n",
    "    else:\n",
    "        print(\"현재금액: \", money)"
   ]
  },
  {
   "cell_type": "markdown",
   "metadata": {},
   "source": [
    "# for문\n",
    "파이썬에서의 for문은 다른 프로그래밍 언어와는 조금 다른 형태이지만 쉽게 이해할 수 있습니다. in을 사용하여 리스트 자료형의 첫번째 요소 인덱스부터 차례로 대입됩니다.\n",
    "\n",
    "아래는 for문 예제입니다."
   ]
  },
  {
   "cell_type": "code",
   "execution_count": 2,
   "metadata": {},
   "outputs": [
    {
     "name": "stdout",
     "output_type": "stream",
     "text": [
      "1\n",
      "2\n",
      "3\n"
     ]
    }
   ],
   "source": [
    "list = [1, 2, 3]\n",
    "for i in list:\n",
    "    print(i)"
   ]
  },
  {
   "cell_type": "markdown",
   "metadata": {},
   "source": [
    "for문은 range와 함께 자주 사용합니다."
   ]
  },
  {
   "cell_type": "code",
   "execution_count": 16,
   "metadata": {},
   "outputs": [
    {
     "name": "stdout",
     "output_type": "stream",
     "text": [
      "range(1, 4)\n",
      "1\n",
      "2\n",
      "3\n"
     ]
    }
   ],
   "source": [
    "for i in range(1,4):\n",
    "    print(i)\n",
    "    \n"
   ]
  },
  {
   "cell_type": "markdown",
   "metadata": {},
   "source": [
    "리스트를 이용하기 때문에 조금 색다른 형태의 for문도 가능합니다."
   ]
  },
  {
   "cell_type": "code",
   "execution_count": 19,
   "metadata": {},
   "outputs": [
    {
     "name": "stdout",
     "output_type": "stream",
     "text": [
      "1 :  3\n",
      "2 :  7\n",
      "3 :  11\n"
     ]
    }
   ],
   "source": [
    "list = [[1, 2], [3, 4], [5, 6]]\n",
    "i = 0;\n",
    "for [a, b] in list:\n",
    "    i += 1\n",
    "    print(i, \": \", a + b)"
   ]
  }
 ],
 "metadata": {
  "kernelspec": {
   "display_name": "Python 3",
   "language": "python",
   "name": "python3"
  },
  "language_info": {
   "codemirror_mode": {
    "name": "ipython",
    "version": 3
   },
   "file_extension": ".py",
   "mimetype": "text/x-python",
   "name": "python",
   "nbconvert_exporter": "python",
   "pygments_lexer": "ipython3",
   "version": "3.6.5"
  }
 },
 "nbformat": 4,
 "nbformat_minor": 2
}
