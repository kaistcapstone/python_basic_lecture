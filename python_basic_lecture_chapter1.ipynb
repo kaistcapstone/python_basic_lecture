{
 "cells": [
  {
   "cell_type": "markdown",
   "metadata": {},
   "source": [
    "# Python Basic Lecture\n",
    "## Chapter 1: Data type\n",
    "\n",
    "위 강의는 파이썬을 기반으로 수업합니다. 따라서 파이썬에 대한 기본적인 내용을 1주일간 수업합니다.\n",
    "\n",
    "파이썬에 대한 아주 기본적인 내용만 알아도 따라갈 수 있으니 수업에 필요한 기본적인 내용만 간단하게 설명합니다."
   ]
  },
  {
   "cell_type": "markdown",
   "metadata": {},
   "source": [
    "# 1. 숫자형\n",
    "\n",
    "정수형, 실수형이 있으며 8진수, 16진수형 표현도 가능합니다.\n",
    "\n",
    "실수형은 (.)을 사용하여 표현이 가능하며 8진수, 16진수는 각각 (0o), (0x)로 시작하여 사용합니다.\n",
    "\n",
    "숫자형은 아래와 같이 나타낼 수 있습니다.\n"
   ]
  },
  {
   "cell_type": "code",
   "execution_count": 1,
   "metadata": {},
   "outputs": [
    {
     "data": {
      "text/plain": [
       "(123, 1.23, 12300000000.0, 127, 2303)"
      ]
     },
     "execution_count": 1,
     "metadata": {},
     "output_type": "execute_result"
    }
   ],
   "source": [
    "a = 123\n",
    "b = 1.23\n",
    "c = 1.23e10\n",
    "d = 0o177\n",
    "e = 0x8ff\n",
    "\n",
    "a, b, c, d, e"
   ]
  },
  {
   "cell_type": "markdown",
   "metadata": {},
   "source": [
    "## 1.1. 사칙연산\n",
    "파이썬에서는 다른 프로그래밍 언어와 마찬가지로 +, -, *, / 의 사칙 연산을 사용할 수 있습니다.\n",
    "\n",
    "예제는 아래와 같습니다."
   ]
  },
  {
   "cell_type": "code",
   "execution_count": 2,
   "metadata": {},
   "outputs": [
    {
     "data": {
      "text/plain": [
       "(10, 4, 21, 2.3333333333333335)"
      ]
     },
     "execution_count": 2,
     "metadata": {},
     "output_type": "execute_result"
    }
   ],
   "source": [
    "p = 7\n",
    "q = 3\n",
    "\n",
    "w = p + q\n",
    "x = p - q\n",
    "y = p * q\n",
    "z = p / q\n",
    "\n",
    "w, x, y, z"
   ]
  },
  {
   "cell_type": "markdown",
   "metadata": {},
   "source": [
    "## 1.2. 그밖의 숫자형 연산\n",
    "1. ** : 제곱을 나타내는 연산자\n",
    "2. %  : 나눗셈 후 나머지를 반환하는 연산자\n",
    "3. // : 나눗셈 후 소수점 아랫자리를 버리는 연산자\n",
    "\n",
    "위 3가지 연산자는 아래의 셀을 실행시켜보면 알 수 있습니다. \n",
    "\n",
    "*아래의 셀은 p, q에 대한 정의가 되어있지 않습니다. 위 셀에서 p, q를 정의하였기 때문에 위 셀을 실행하였다면 아래의 셀을 실행시킬 수 있습니다."
   ]
  },
  {
   "cell_type": "code",
   "execution_count": 3,
   "metadata": {
    "scrolled": true
   },
   "outputs": [
    {
     "data": {
      "text/plain": [
       "(343, 1, 2)"
      ]
     },
     "execution_count": 3,
     "metadata": {},
     "output_type": "execute_result"
    }
   ],
   "source": [
    "x = p ** q\n",
    "y = p % q\n",
    "z = p // q\n",
    "\n",
    "x, y, z"
   ]
  },
  {
   "cell_type": "markdown",
   "metadata": {},
   "source": [
    "# 2. 문자열\n",
    "\n",
    "문자열(String)이란 문자, 단어 등으로 구성된 문자들의 집합을 의미합니다.\n",
    "\n",
    "\n",
    "## 2.1. 큰따옴표(\"), 작은따옴표(')의 사용\n",
    "파이썬에서의 문자열은 큰 따옴표와 작은 따옴표의 사용이 모두 가능하며 문자열을 만드는 방법은 총 4가지입니다.\n",
    "\n",
    "1. \"Hello World\"\n",
    "2. 'Python is fun'\n",
    "3. \"\"\"Life is too short, You need python\"\"\"\n",
    "4. '''Life is too short, You need python'''\n",
    "\n",
    "이 강의에서 문자열 사용은 많지 않으며 리스트의 연산과 인덱싱과 유사하므로 리스트 자료형을 배우면 직관적으로 이해할 수 있습니다."
   ]
  },
  {
   "cell_type": "code",
   "execution_count": 4,
   "metadata": {},
   "outputs": [
    {
     "name": "stdout",
     "output_type": "stream",
     "text": [
      "Python's favorite food is perl\n",
      "\"Python is very easy.\" he says.\n",
      "\n",
      "... Life is too short\n",
      "... You need python\n",
      "... \n",
      "\n",
      "... Life is too short\n",
      "... You need python\n",
      "... \n"
     ]
    }
   ],
   "source": [
    "food = \"Python's favorite food is perl\"\n",
    "say = '\"Python is very easy.\" he says.'\n",
    "\n",
    "multiline1='''\n",
    "... Life is too short\n",
    "... You need python\n",
    "... '''\n",
    "\n",
    "multiline2=\"\"\"\n",
    "... Life is too short\n",
    "... You need python\n",
    "... \"\"\"\n",
    "\n",
    "print(food)\n",
    "print(say)\n",
    "print(multiline1)\n",
    "print(multiline2)"
   ]
  },
  {
   "cell_type": "markdown",
   "metadata": {},
   "source": [
    "# 3. 리스트\n",
    "\n",
    "숫자이나 문자열의 모음을 나타내는 자료형입니다. 위 강의는 행렬연산이 매우 많이 쓰이며 리스트는 행렬을 표현하는 자료형으로 많이 사용됩니다. \n",
    "\n",
    "리스트는 다음과 같이 사용할 수 있습니다."
   ]
  },
  {
   "cell_type": "code",
   "execution_count": 5,
   "metadata": {},
   "outputs": [
    {
     "name": "stdout",
     "output_type": "stream",
     "text": [
      "[] [1, 2, 3, 4, 5] ['Life', 'is', 'too', 'short'] [1, 2, 'Life', 'is'] [1, 2, ['Life', 'is']]\n"
     ]
    }
   ],
   "source": [
    "a = [ ]\n",
    "b = [1, 2, 3, 4, 5]\n",
    "c = ['Life', 'is', 'too', 'short']\n",
    "d = [1, 2, 'Life', 'is']\n",
    "e = [1, 2, ['Life', 'is']]\n",
    "print(a, b, c, d, e)"
   ]
  },
  {
   "cell_type": "markdown",
   "metadata": {},
   "source": [
    "## 3.1. 리스트 인덱싱\n",
    "\n",
    "a[0]은 a의 첫번째 요소값을 가리키며 a[1]은 두번째 요소값을 가리킵니다.\n",
    "\n",
    "a[-1]은 리스트의 마지막 요소값을 가리킵니다.\n",
    "\n",
    "문자열 자료형도 유사하게 사용되며 아래 예제에서 확인할 수 있습니다."
   ]
  },
  {
   "cell_type": "code",
   "execution_count": 6,
   "metadata": {
    "scrolled": true
   },
   "outputs": [
    {
     "name": "stdout",
     "output_type": "stream",
     "text": [
      "1 2 5\n",
      "1 2 5\n"
     ]
    }
   ],
   "source": [
    "a = [1, 2, 3, 4, 5]\n",
    "b = \"12345\"\n",
    "print(a[0], a[1], a[-1])\n",
    "print(b[0], b[1], b[-1])"
   ]
  },
  {
   "cell_type": "markdown",
   "metadata": {},
   "source": [
    "1차원 리스트의 인덱싱 뿐만 아니라 2차원, 3차원 인덱싱도 가능합니다."
   ]
  },
  {
   "cell_type": "code",
   "execution_count": 7,
   "metadata": {},
   "outputs": [
    {
     "name": "stdout",
     "output_type": "stream",
     "text": [
      "[5, 6] 5 9\n"
     ]
    }
   ],
   "source": [
    "a = [1, 2, 3, 4, [5, 6], [7, [8, 9]]]\n",
    "print(a[4], a[4][0], a[5][1][1])"
   ]
  },
  {
   "cell_type": "markdown",
   "metadata": {},
   "source": [
    "## 3.2. 리스트 슬라이싱\n",
    "\n",
    "리스트는 슬라이싱이라는 기법을 적용할 수 있습니다. 슬라이싱은 a[1:4]와 같이 표현할 수 있으며 이는 1<=index<4 를 의미합니다. 인덱스는 0부터 시작하므로 2, 3, 4번째 인덱스라고 할 수 있습니다.\n",
    "\n",
    "아래의 예제로 확인할 수 있습니다."
   ]
  },
  {
   "cell_type": "code",
   "execution_count": 8,
   "metadata": {
    "scrolled": true
   },
   "outputs": [
    {
     "name": "stdout",
     "output_type": "stream",
     "text": [
      "[1, 2] 12\n",
      "[1, 2] [3, 4, 5]\n"
     ]
    }
   ],
   "source": [
    "a = [1, 2, 3, 4, 5]\n",
    "b = \"12345\"\n",
    "print(a[0:2], b[0:2])\n",
    "print(a[:2], a[2:])"
   ]
  },
  {
   "cell_type": "markdown",
   "metadata": {},
   "source": [
    "## 3.3. 리스트 연산자\n",
    "\n",
    "리스트의 연산자에는 +와 *가 있습니다.\n",
    "\n",
    "+는 두개의 리스트를 합치는 역할을 하며 *는 정수만큼 리스트를 반복합니다."
   ]
  },
  {
   "cell_type": "code",
   "execution_count": 9,
   "metadata": {},
   "outputs": [
    {
     "name": "stdout",
     "output_type": "stream",
     "text": [
      "[1, 2, 3, 4, 5, 6]\n",
      "[1, 2, 3, 1, 2, 3, 1, 2, 3]\n"
     ]
    }
   ],
   "source": [
    "a = [1, 2, 3]\n",
    "b = [4, 5, 6]\n",
    "\n",
    "print(a + b)\n",
    "print(a * 3)"
   ]
  },
  {
   "cell_type": "markdown",
   "metadata": {},
   "source": [
    "## 3.4. 리스트 수정, 변경, 삭제\n",
    "\n",
    "리스트 내의 요소를 다음과 같이 수정할 수 있습니다."
   ]
  },
  {
   "cell_type": "code",
   "execution_count": 10,
   "metadata": {},
   "outputs": [
    {
     "name": "stdout",
     "output_type": "stream",
     "text": [
      "[1, 2, 4]\n",
      "[1, 5, 6, 4]\n",
      "[1, 4]\n",
      "[1]\n"
     ]
    }
   ],
   "source": [
    "a = [1, 2, 3]\n",
    "a[2] = 4\n",
    "print(a)\n",
    "a[1:2] = [5, 6]\n",
    "print(a)\n",
    "a[1:3] = []\n",
    "print(a)\n",
    "del a[1]\n",
    "print(a)"
   ]
  },
  {
   "cell_type": "markdown",
   "metadata": {},
   "source": [
    "## 3.5. 리스트 관련 함수들\n",
    "\n",
    "리스트는 인덱싱 외에도 다양한 함수를 사용할 수 있습니다. 이는 참고자료를 활용하여 쉽게 사용하실 수 있습니다."
   ]
  },
  {
   "cell_type": "markdown",
   "metadata": {},
   "source": [
    "# 4. 튜플\n",
    "튜플(tuple)은 몇 가지 점을 제외하곤 리스트와 거의 비슷하며 리스트와 다른 점은 다음과 같습니다.\n",
    "\n",
    "1. 리스트는 [과 ]으로 둘러싸지만 튜플은 (과 )으로 둘러싼다.\n",
    "2. 리스트는 그 값의 생성, 삭제, 수정이 가능하지만 튜플은 그 값을 바꿀 수 없다.\n",
    "\n",
    "즉, 튜플의 요소는 변화가 불가능합니다. 튜플은 리스트와 구분지어 사용할 수 있는데 프로그램이 실행되는 동안 값이 변화하지 않길 바란다면 튜플을 주로 사용하고 값을 수시로 변화시켜야하는 경우라면 리스트를 사용합니다.\n",
    "\n",
    "튜플의 사용은 아래와 같습니다.\n"
   ]
  },
  {
   "cell_type": "code",
   "execution_count": 11,
   "metadata": {},
   "outputs": [],
   "source": [
    "a = ()\n",
    "b = (1,)\n",
    "c = (1, 2, 3)\n",
    "d = 1, 2, 3\n",
    "e = ('a', 'b', ('ab', 'cd'))\n"
   ]
  },
  {
   "cell_type": "markdown",
   "metadata": {},
   "source": [
    "## 4.1. 튜플의 인덱싱과 슬라이싱, 연산\n",
    "\n",
    "튜플은 요소를 수정하거나 삭제할 수 없지만 인덱싱, 슬라이싱, 연산은 가능하며 이는 리스트와 동일합니다.\n"
   ]
  },
  {
   "cell_type": "markdown",
   "metadata": {},
   "source": [
    "# 5. 딕셔너리\n",
    "\n",
    "딕셔너리는 Key와 Value를 한 쌍으로 갖는 자료형입니다. 즉 값에 이름을 부여하여 사용하는 특징이 있으며 Key를 통해 Value를 얻습니다.\n",
    "\n",
    "여기서 Key에는 변하지 않는 값을 사용하며, Value에는 변하는 값, 변하지 않는 값을 사용합니다. 또한 Value에는 숫자, 문자열, 리스트, 튜플 모두를 사용할 수 있습니다."
   ]
  },
  {
   "cell_type": "code",
   "execution_count": 12,
   "metadata": {},
   "outputs": [
    {
     "name": "stdout",
     "output_type": "stream",
     "text": [
      "{'name': 'pey', 'phone': '0119993323', 'birth': 1118, 'family': ['mother', 'father', 'brother']}\n",
      "pey\n",
      "1118\n",
      "['mother', 'father', 'brother']\n"
     ]
    }
   ],
   "source": [
    "dic = {'name':'pey', 'phone':'0119993323', 'birth': 1118, 'family': ['mother', 'father', 'brother']}\n",
    "print(dic)\n",
    "print(dic['name'])\n",
    "print(dic['birth'])\n",
    "print(dic['family'])"
   ]
  },
  {
   "cell_type": "markdown",
   "metadata": {},
   "source": [
    "## 5.1. 딕셔너리 관련 함수들\n",
    "\n",
    "딕셔너리 역시를 많은 함수를 포함하고 있습니다. 이 강의에는 딕셔너리를 활용할 수 있는 다양한 함수에 대한 설명은 생략합니다."
   ]
  },
  {
   "cell_type": "markdown",
   "metadata": {},
   "source": [
    "# 6. 집합\n",
    "\n",
    "집합(set)은 집합에 관련된 것들을 처리하기 위해 만들어진 자료형이며 아래와 같은 특징을 갖고 있습니다.\n",
    "\n",
    "1. 중복을 허용하지 않는다.\n",
    "2. 순서가 없다.\n",
    "\n",
    "중복을 허용하지 않기 때문에 리스트의 중복을 제거하기 위한 필터로도 사용됩니다.\n",
    "\n",
    "집합은 아래와 같이 사용합니다."
   ]
  },
  {
   "cell_type": "code",
   "execution_count": 13,
   "metadata": {},
   "outputs": [
    {
     "name": "stdout",
     "output_type": "stream",
     "text": [
      "[1, 2, 3, 4] 1\n",
      "(1, 2, 3, 4) 1\n"
     ]
    }
   ],
   "source": [
    "s1 = set([1, 2, 3, 3, 2, 4])\n",
    "l1 = list(s1)\n",
    "print(l1, l1[0])\n",
    "\n",
    "t1 = tuple(s1)\n",
    "print(t1, t1[0])"
   ]
  },
  {
   "cell_type": "markdown",
   "metadata": {},
   "source": [
    "## 6.1. 교집합, 합집합, 차집합\n"
   ]
  },
  {
   "cell_type": "code",
   "execution_count": 14,
   "metadata": {},
   "outputs": [
    {
     "name": "stdout",
     "output_type": "stream",
     "text": [
      "intersection:  {4, 5, 6} {4, 5, 6}\n",
      "union:  {1, 2, 3, 4, 5, 6, 7, 8, 9} {1, 2, 3, 4, 5, 6, 7, 8, 9}\n",
      "difference:  {1, 2, 3} {1, 2, 3}\n"
     ]
    }
   ],
   "source": [
    "s1 = set([1, 2, 3, 4, 5, 6])\n",
    "s2 = set([4, 5, 6, 7, 8, 9])\n",
    "\n",
    "# 교집합\n",
    "print(\"intersection: \", s1 & s2, s1.intersection(s2))\n",
    "\n",
    "# 합집합\n",
    "print(\"union: \", s1 | s2, s1.union(s2))\n",
    "\n",
    "# 차집합\n",
    "print(\"difference: \", s1 - s2, s1.difference(s2))\n"
   ]
  },
  {
   "cell_type": "markdown",
   "metadata": {},
   "source": [
    "## 6.2. 집합 관련 함수들\n",
    "\n",
    "집합 역시 다양한 함수들이 존재합니다. 필요하면 참고자료를 활용하세요."
   ]
  },
  {
   "attachments": {
    "image.png": {
     "image/png": "[encoded data removed]"
    }
   },
   "cell_type": "markdown",
   "metadata": {},
   "source": [
    "# 7. 불(bool)\n",
    "불(bool) 자료형이란 참(True)과 거짓(False)을 나타내는 자료형입니다.\n",
    "\n",
    "따라서 참, 거짓의 2가지 값만을 가질 수 있다.\n",
    "![image.png](attachment:image.png)"
   ]
  },
  {
   "cell_type": "code",
   "execution_count": 15,
   "metadata": {},
   "outputs": [
    {
     "data": {
      "text/plain": [
       "True"
      ]
     },
     "execution_count": 15,
     "metadata": {},
     "output_type": "execute_result"
    }
   ],
   "source": [
    "bool((1, 2, 3))"
   ]
  },
  {
   "cell_type": "markdown",
   "metadata": {},
   "source": [
    "# 8. 변수\n",
    "앞에서 많은 변수들을 사용해왔습니다. = 기호를 사용하여 표현하는 것을 변수라고 하며 아래와 같이 사용됩니다.\n",
    "\n",
    "(변수명) = (변수에 저장할 값)\n",
    "\n",
    "파이썬에서 중요한 개념으로 사용되는 객체라는 개념이 있습니다. 객체는 데이터를 담는 보이지 않는 박스와 같습니다.\n",
    "위의 코드는 저장할 값의 객체를 메모리에 생성하여 값을 저장하고, 이때의 변수명은 생성된 메모리의 주소를 가리키게 됩니다. 즉 변수명은 객체자체에 포함된다기보단 객체를 참조할 뿐이라고 생각하면됩니다.\n",
    "\n",
    "주소는 id()라는 내장함수로 확인할 수 있습니다."
   ]
  },
  {
   "cell_type": "code",
   "execution_count": 16,
   "metadata": {},
   "outputs": [
    {
     "data": {
      "text/plain": [
       "1885708556104"
      ]
     },
     "execution_count": 16,
     "metadata": {},
     "output_type": "execute_result"
    }
   ],
   "source": [
    "a = [1, 2, 3]\n",
    "id(a)"
   ]
  },
  {
   "cell_type": "markdown",
   "metadata": {},
   "source": [
    "## 8.1. 리스트에서의 변수 복사\n",
    "변수를 복사하는 방법에는 다양한 방법이 있습니다. 아래와 같은 예제를 참고하여 설명하겠습니다."
   ]
  },
  {
   "cell_type": "code",
   "execution_count": 17,
   "metadata": {},
   "outputs": [],
   "source": [
    "a = [1,2,3]\n",
    "b = a"
   ]
  },
  {
   "cell_type": "markdown",
   "metadata": {},
   "source": [
    "위의 예제와 같이 변수 a를 b에 대입하게되면 a와 b는 완전히 동일하다고 표현합니다. 여기서의 완전히 동일하다의 표현은 a와 b에 저장된 값 뿐 아니라 주소까지 같다는 말 입니다. 즉, [1, 2, 3]이라는 리스트(객체)를 참조하는 변수가 처음에는 a만 존재하다가 a를 b에 대입한 뒤에는 a와 b 2개의 변수가 참조하고 있다고 할 수 있습니다.\n",
    "\n",
    "아래와 같이 주소를 확인해 보면 이해할 수 있습니다. 또한 a와 b가 동일한지는 is나 ==라는 명령어로 확인합니다."
   ]
  },
  {
   "cell_type": "code",
   "execution_count": 18,
   "metadata": {},
   "outputs": [
    {
     "data": {
      "text/plain": [
       "(1885708425736, 1885708425736, True, True)"
      ]
     },
     "execution_count": 18,
     "metadata": {},
     "output_type": "execute_result"
    }
   ],
   "source": [
    "id(a), id(b), a is b, a == b"
   ]
  },
  {
   "cell_type": "code",
   "execution_count": 19,
   "metadata": {},
   "outputs": [
    {
     "name": "stdout",
     "output_type": "stream",
     "text": [
      "[1, 4, 3] [1, 4, 3]\n",
      "[1, 4, 5] [1, 4, 5]\n"
     ]
    }
   ],
   "source": [
    "a[1] = 4\n",
    "print(a, b)\n",
    "b[2] = 5\n",
    "print(a, b)"
   ]
  },
  {
   "cell_type": "markdown",
   "metadata": {},
   "source": [
    "a와 b는 완전히 동일하므로 위와 같이 a나 b의 값을 변화시키면 나머지 한개의 변수도 변화한다는 것을 확인할 수 있습니다. 다시말해 a나 b를 변화시키면 참조하고 있는 객체 [1, 2, 3]이 변화하며 이를 참조하는 변수 a와 b 역시 변화하는 것입니다.\n",
    "\n",
    "## 8.2. [:]와 copy를 사용한 복사\n",
    "그렇다면 위와 다른 방법으로 변수를 복사하고 싶다면 어떻게 할까요? 다시말해 b변수에 a변수가 갖고 있는 값은 복사하되 a가 참조하고 있는 객체(리스트)와는 다른 리스트를 참조하려면 어떻게 할까요?\n",
    "\n",
    "[:]와 copy()를 이용하면 위와 같은 복사가 가능합니다."
   ]
  },
  {
   "cell_type": "code",
   "execution_count": 20,
   "metadata": {},
   "outputs": [
    {
     "name": "stdout",
     "output_type": "stream",
     "text": [
      "[1, 2, 3] [1, 2, 3]\n",
      "1885708424648 1885708628168\n",
      "False\n"
     ]
    }
   ],
   "source": [
    "a = [1,2,3]\n",
    "b = a[:]\n",
    "print(a, b)\n",
    "print(id(a), id(b))\n",
    "print(a is b)"
   ]
  },
  {
   "cell_type": "code",
   "execution_count": 21,
   "metadata": {},
   "outputs": [
    {
     "name": "stdout",
     "output_type": "stream",
     "text": [
      "[1, 2, 3] [1, 2, 3]\n",
      "1885708555784 1885708427016\n",
      "False\n"
     ]
    }
   ],
   "source": [
    "from copy import copy\n",
    "a = [1,2,3]\n",
    "b = copy(a)\n",
    "print(a, b)\n",
    "print(id(a), id(b))\n",
    "print(a is b)"
   ]
  },
  {
   "cell_type": "markdown",
   "metadata": {},
   "source": [
    "위의 from copy import copy는 copy라는 모듈을 사용하기 위한 코드입니다."
   ]
  }
 ],
 "metadata": {
  "kernelspec": {
   "display_name": "Python 3",
   "language": "python",
   "name": "python3"
  },
  "language_info": {
   "codemirror_mode": {
    "name": "ipython",
    "version": 3
   },
   "file_extension": ".py",
   "mimetype": "text/x-python",
   "name": "python",
   "nbconvert_exporter": "python",
   "pygments_lexer": "ipython3",
   "version": "3.6.5"
  }
 },
 "nbformat": 4,
 "nbformat_minor": 2
}
